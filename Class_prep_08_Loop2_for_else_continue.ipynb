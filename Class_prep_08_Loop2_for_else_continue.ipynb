{
  "cells": [
    {
      "cell_type": "markdown",
      "metadata": {
        "id": "view-in-github",
        "colab_type": "text"
      },
      "source": [
        "<a href=\"https://colab.research.google.com/github/hhaemin/02/blob/master/Class_prep_08_Loop2_for_else_continue.ipynb\" target=\"_parent\"><img src=\"https://colab.research.google.com/assets/colab-badge.svg\" alt=\"Open In Colab\"/></a>"
      ]
    },
    {
      "cell_type": "markdown",
      "metadata": {
        "id": "yRs1KhJxDkvc"
      },
      "source": [
        "#### for문 여러개의 변수를 할당하기"
      ]
    },
    {
      "cell_type": "code",
      "execution_count": 1,
      "metadata": {
        "ExecuteTime": {
          "end_time": "2021-01-14T04:07:15.604771Z",
          "start_time": "2021-01-14T04:07:15.594829Z"
        },
        "colab": {
          "base_uri": "https://localhost:8080/"
        },
        "id": "e3-OzqDhDkvh",
        "outputId": "f2511524-68c5-4d11-dd48-b4d00f9e3e40"
      },
      "outputs": [
        {
          "output_type": "stream",
          "name": "stdout",
          "text": [
            "google chrome 1\n",
            "facebook libra 3\n",
            "apple iphone 2\n",
            "tesla e-car 4\n"
          ]
        }
      ],
      "source": [
        "corp = ['google','facebook','apple','tesla']\n",
        "prod = ['chrome','libra','iphone','e-car']\n",
        "rank = [1, 3, 2, 4]\n",
        "\n",
        "for c, p, r in zip(corp, prod, rank):\n",
        "    print(c, p, r)"
      ]
    },
    {
      "cell_type": "code",
      "execution_count": 2,
      "metadata": {
        "ExecuteTime": {
          "end_time": "2021-01-14T04:08:39.642973Z",
          "start_time": "2021-01-14T04:08:39.627016Z"
        },
        "colab": {
          "base_uri": "https://localhost:8080/"
        },
        "id": "qnHwU0jwDkvi",
        "outputId": "92ec4364-5a3d-43ca-bc6a-a7ff08cb1c91"
      },
      "outputs": [
        {
          "output_type": "stream",
          "name": "stdout",
          "text": [
            "0 ('google', 'chrome')\n",
            "1 ('facebook', 'libra')\n",
            "2 ('apple', 'iphone')\n",
            "3 ('tesla', 'e-car')\n"
          ]
        }
      ],
      "source": [
        "for i, j in enumerate(zip(corp,prod)):\n",
        "  print(i,j)\n",
        "  #print(i,j[0],j[1])"
      ]
    },
    {
      "cell_type": "markdown",
      "metadata": {
        "id": "vNClZEqbDkvi"
      },
      "source": [
        "#### for문 continue\n",
        "    - continue를 사용 : for문의 조건문으로 돌아가서 루프를 실행(다음 순서로 진행)"
      ]
    },
    {
      "cell_type": "code",
      "execution_count": 4,
      "metadata": {
        "ExecuteTime": {
          "end_time": "2021-01-14T03:49:05.429754Z",
          "start_time": "2021-01-14T03:49:05.415788Z"
        },
        "id": "BU1BuAvJDkvj",
        "outputId": "d39b3c6c-d5c1-413b-f853-4f49c8781254",
        "colab": {
          "base_uri": "https://localhost:8080/"
        }
      },
      "outputs": [
        {
          "output_type": "stream",
          "name": "stdout",
          "text": [
            "홀수는 패스\n",
            "2\n",
            "홀수는 패스\n",
            "4\n",
            "홀수는 패스\n"
          ]
        }
      ],
      "source": [
        "ls = [1, 2, 3, 4, 5]\n",
        "for i in ls:\n",
        "  if i % 2:\n",
        "    print(\"홀수는 패스\")\n",
        "    continue\n",
        "  print(i)"
      ]
    },
    {
      "cell_type": "markdown",
      "metadata": {
        "id": "xlsCZO6rDkvj"
      },
      "source": [
        "#### 중첩 for문"
      ]
    },
    {
      "cell_type": "code",
      "execution_count": 5,
      "metadata": {
        "ExecuteTime": {
          "end_time": "2021-01-14T04:26:47.148553Z",
          "start_time": "2021-01-14T04:26:47.138581Z"
        },
        "id": "FPnr9xe5Dkvk",
        "outputId": "a749d9f0-a201-42f2-9118-1ae7fca7a298",
        "colab": {
          "base_uri": "https://localhost:8080/"
        }
      },
      "outputs": [
        {
          "output_type": "stream",
          "name": "stdout",
          "text": [
            "\n",
            "2 X 1 = 2\t3 X 1 = 3\t4 X 1 = 4\t5 X 1 = 5\t6 X 1 = 6\t7 X 1 = 7\t8 X 1 = 8\t9 X 1 = 9\t\n",
            "2 X 2 = 4\t3 X 2 = 6\t4 X 2 = 8\t5 X 2 = 10\t6 X 2 = 12\t7 X 2 = 14\t8 X 2 = 16\t9 X 2 = 18\t\n",
            "2 X 3 = 6\t3 X 3 = 9\t4 X 3 = 12\t5 X 3 = 15\t6 X 3 = 18\t7 X 3 = 21\t8 X 3 = 24\t9 X 3 = 27\t\n",
            "2 X 4 = 8\t3 X 4 = 12\t4 X 4 = 16\t5 X 4 = 20\t6 X 4 = 24\t7 X 4 = 28\t8 X 4 = 32\t9 X 4 = 36\t\n",
            "2 X 5 = 10\t3 X 5 = 15\t4 X 5 = 20\t5 X 5 = 25\t6 X 5 = 30\t7 X 5 = 35\t8 X 5 = 40\t9 X 5 = 45\t\n",
            "2 X 6 = 12\t3 X 6 = 18\t4 X 6 = 24\t5 X 6 = 30\t6 X 6 = 36\t7 X 6 = 42\t8 X 6 = 48\t9 X 6 = 54\t\n",
            "2 X 7 = 14\t3 X 7 = 21\t4 X 7 = 28\t5 X 7 = 35\t6 X 7 = 42\t7 X 7 = 49\t8 X 7 = 56\t9 X 7 = 63\t\n",
            "2 X 8 = 16\t3 X 8 = 24\t4 X 8 = 32\t5 X 8 = 40\t6 X 8 = 48\t7 X 8 = 56\t8 X 8 = 64\t9 X 8 = 72\t\n",
            "2 X 9 = 18\t3 X 9 = 27\t4 X 9 = 36\t5 X 9 = 45\t6 X 9 = 54\t7 X 9 = 63\t8 X 9 = 72\t9 X 9 = 81\t"
          ]
        }
      ],
      "source": [
        "# 구구단 전체 출력해보기\n",
        "for i in range(1,10):\n",
        "  print()\n",
        "  for j in range(2,10):\n",
        "    print(\"{} X {} = {}\".format(j,i,j*i), end=\"\\t\")"
      ]
    },
    {
      "cell_type": "markdown",
      "metadata": {
        "id": "1SOHD9WtDkvm"
      },
      "source": [
        "#### list comprehension\n",
        "    - list 데이터를 만들 때 for문을 이용하여 생성\n",
        "    - 속도가 빠르고 ram을 적게 사용"
      ]
    },
    {
      "cell_type": "code",
      "execution_count": 6,
      "metadata": {
        "ExecuteTime": {
          "end_time": "2021-01-14T04:29:32.640310Z",
          "start_time": "2021-01-14T04:29:32.620365Z"
        },
        "colab": {
          "base_uri": "https://localhost:8080/"
        },
        "id": "BPp8saf2Dkvm",
        "outputId": "c569877c-469f-49e9-9f71-78555e7b0628"
      },
      "outputs": [
        {
          "output_type": "execute_result",
          "data": {
            "text/plain": [
              "[121, 144, 169, 196]"
            ]
          },
          "metadata": {},
          "execution_count": 6
        }
      ],
      "source": [
        "ls = [11, 12, 13, 14]\n",
        "# ls2 = ls ** 2 # 연산이 불가능\n",
        "\n",
        "ls2 = []\n",
        "for i in ls:\n",
        "  ls2.append(i**2)\n",
        "ls2"
      ]
    },
    {
      "cell_type": "code",
      "execution_count": 8,
      "metadata": {
        "colab": {
          "base_uri": "https://localhost:8080/"
        },
        "id": "G5lc4QRlHAmI",
        "outputId": "4b2c7e62-fab1-4e64-ac59-d5cd7f1b05f7"
      },
      "outputs": [
        {
          "output_type": "execute_result",
          "data": {
            "text/plain": [
              "[121, 144, 169, 196]"
            ]
          },
          "metadata": {},
          "execution_count": 8
        }
      ],
      "source": [
        "ls3 = [i**2 for i in ls]\n",
        "ls3"
      ]
    },
    {
      "cell_type": "code",
      "execution_count": 9,
      "metadata": {
        "ExecuteTime": {
          "end_time": "2021-01-14T05:09:02.553509Z",
          "start_time": "2021-01-14T05:09:02.536556Z"
        },
        "id": "_9Bn3FidDkvm",
        "outputId": "9f6cebda-6fb1-4381-e087-2c7c1866a04a",
        "colab": {
          "base_uri": "https://localhost:8080/"
        }
      },
      "outputs": [
        {
          "output_type": "execute_result",
          "data": {
            "text/plain": [
              "['짝수', 1, '짝수', 3, '짝수', 5, '짝수', 7, '짝수', 9]"
            ]
          },
          "metadata": {},
          "execution_count": 9
        }
      ],
      "source": [
        "[data if data %2 else \"짝수\" for data in range(10) ]"
      ]
    },
    {
      "cell_type": "code",
      "source": [
        "ls4 = list()\n",
        "for data in range(10):\n",
        "  if data % 2:\n",
        "    ls4.append(data)\n",
        "  else:\n",
        "    ls4.append(\"짝수\")\n",
        "ls4"
      ],
      "metadata": {
        "colab": {
          "base_uri": "https://localhost:8080/"
        },
        "id": "5nthCr7Z7m6-",
        "outputId": "3a622be6-24a2-48c3-ae85-3b1b72aecd19"
      },
      "execution_count": 10,
      "outputs": [
        {
          "output_type": "execute_result",
          "data": {
            "text/plain": [
              "['짝수', 1, '짝수', 3, '짝수', 5, '짝수', 7, '짝수', 9]"
            ]
          },
          "metadata": {},
          "execution_count": 10
        }
      ]
    },
    {
      "cell_type": "markdown",
      "metadata": {
        "id": "0VDgk_raDkvm"
      },
      "source": [
        "#### quiz\n",
        "    이중 for문을 이용하여 2차원 배열의 원소들 합을 1차원으로 나타내기"
      ]
    },
    {
      "cell_type": "code",
      "execution_count": 11,
      "metadata": {
        "ExecuteTime": {
          "end_time": "2021-01-14T06:35:00.152315Z",
          "start_time": "2021-01-14T06:35:00.141320Z"
        },
        "colab": {
          "base_uri": "https://localhost:8080/"
        },
        "id": "bp-sxzRkDkvn",
        "outputId": "038925d5-bf14-4965-8faf-e022d974694d"
      },
      "outputs": [
        {
          "output_type": "execute_result",
          "data": {
            "text/plain": [
              "[3, 7, 11, 15]"
            ]
          },
          "metadata": {},
          "execution_count": 11
        }
      ],
      "source": [
        "m1 = [[2, 4], [6, 8]]\n",
        "m2 = [[1, 3], [5, 7]]\n",
        "res = []\n",
        "\n",
        "for i in range(len(m1)):\n",
        "    for j in range(len(m2)):\n",
        "        res.append(m1[i][j] + m2[i][j])\n",
        "res"
      ]
    },
    {
      "cell_type": "code",
      "execution_count": 13,
      "metadata": {
        "colab": {
          "base_uri": "https://localhost:8080/"
        },
        "id": "5g5BpVmMHard",
        "outputId": "4867cce0-9540-4f55-d7e8-634c591abe57"
      },
      "outputs": [
        {
          "output_type": "stream",
          "name": "stdout",
          "text": [
            "[3, 7, 11, 15]\n"
          ]
        }
      ],
      "source": [
        "res2=[m1[i][j]+m2[i][j] for i in range(len(m1)) for j in range(len(m2))]\n",
        "\n",
        "print(res2)"
      ]
    },
    {
      "cell_type": "code",
      "execution_count": null,
      "metadata": {
        "id": "jd0DxbX1JXWM"
      },
      "outputs": [],
      "source": []
    }
  ],
  "metadata": {
    "colab": {
      "collapsed_sections": [],
      "provenance": [],
      "include_colab_link": true
    },
    "hide_input": false,
    "kernelspec": {
      "display_name": "Python 3 (ipykernel)",
      "language": "python",
      "name": "python3"
    },
    "language_info": {
      "codemirror_mode": {
        "name": "ipython",
        "version": 3
      },
      "file_extension": ".py",
      "mimetype": "text/x-python",
      "name": "python",
      "nbconvert_exporter": "python",
      "pygments_lexer": "ipython3",
      "version": "3.8.5"
    },
    "toc": {
      "base_numbering": 1,
      "nav_menu": {},
      "number_sections": true,
      "sideBar": true,
      "skip_h1_title": false,
      "title_cell": "Table of Contents",
      "title_sidebar": "Contents",
      "toc_cell": false,
      "toc_position": {},
      "toc_section_display": true,
      "toc_window_display": false
    },
    "varInspector": {
      "cols": {
        "lenName": 16,
        "lenType": 16,
        "lenVar": 40
      },
      "kernels_config": {
        "python": {
          "delete_cmd_postfix": "",
          "delete_cmd_prefix": "del ",
          "library": "var_list.py",
          "varRefreshCmd": "print(var_dic_list())"
        },
        "r": {
          "delete_cmd_postfix": ") ",
          "delete_cmd_prefix": "rm(",
          "library": "var_list.r",
          "varRefreshCmd": "cat(var_dic_list()) "
        }
      },
      "types_to_exclude": [
        "module",
        "function",
        "builtin_function_or_method",
        "instance",
        "_Feature"
      ],
      "window_display": false
    }
  },
  "nbformat": 4,
  "nbformat_minor": 0
}