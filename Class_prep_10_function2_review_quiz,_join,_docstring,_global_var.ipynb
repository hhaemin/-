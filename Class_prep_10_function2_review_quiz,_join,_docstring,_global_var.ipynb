{
  "cells": [
    {
      "cell_type": "markdown",
      "metadata": {
        "id": "view-in-github",
        "colab_type": "text"
      },
      "source": [
        "<a href=\"https://colab.research.google.com/github/hhaemin/02/blob/master/Class_prep_10_function2_review_quiz%2C_join%2C_docstring%2C_global_var.ipynb\" target=\"_parent\"><img src=\"https://colab.research.google.com/assets/colab-badge.svg\" alt=\"Open In Colab\"/></a>"
      ]
    },
    {
      "cell_type": "markdown",
      "metadata": {
        "id": "7kdtXESZAgaD"
      },
      "source": [
        "### Review Quiz\n",
        "  OTP 생성기"
      ]
    },
    {
      "cell_type": "code",
      "execution_count": 1,
      "metadata": {
        "ExecuteTime": {
          "end_time": "2021-01-14T08:33:22.727030Z",
          "start_time": "2021-01-14T08:33:21.738513Z"
        },
        "colab": {
          "base_uri": "https://localhost:8080/"
        },
        "id": "LUpvyf61AgaH",
        "outputId": "f90d1b3f-7586-4c55-86ef-a3f5e49f8ee4"
      },
      "outputs": [
        {
          "output_type": "execute_result",
          "data": {
            "text/plain": [
              "('472792', '092985')"
            ]
          },
          "metadata": {},
          "execution_count": 1
        }
      ],
      "source": [
        "def genPass():\n",
        "  import random\n",
        "  num = '0123456789'\n",
        "  password =''\n",
        "\n",
        "  for i in range(6):\n",
        "    idx = random.randrange(len(num))\n",
        "    password += num[idx]\n",
        "\n",
        "  return password\n",
        "\n",
        "genPass(), genPass()"
      ]
    },
    {
      "cell_type": "markdown",
      "metadata": {
        "id": "YYe5_3_LAgaJ"
      },
      "source": [
        "#### join 문법\n",
        "    - 하나의 문자열로 합칠 수 있는 함수"
      ]
    },
    {
      "cell_type": "code",
      "execution_count": 2,
      "metadata": {
        "ExecuteTime": {
          "end_time": "2021-01-15T07:08:40.388478Z",
          "start_time": "2021-01-15T07:08:40.376501Z"
        },
        "id": "IscZRFL5AgaJ",
        "outputId": "b5196b68-ae7e-4eb8-9c2e-1214c57e5567",
        "colab": {
          "base_uri": "https://localhost:8080/",
          "height": 35
        }
      },
      "outputs": [
        {
          "output_type": "execute_result",
          "data": {
            "text/plain": [
              "\"python is fun, isn't it?\""
            ],
            "application/vnd.google.colaboratory.intrinsic+json": {
              "type": "string"
            }
          },
          "metadata": {},
          "execution_count": 2
        }
      ],
      "source": [
        "ls = [\"python\", \"is\", \"fun,\", \"isn't it?\"]\n",
        "\" \".join(ls)\n",
        "#list 안의 데이터들을 한 칸씩 띄우고 합치기"
      ]
    },
    {
      "cell_type": "markdown",
      "metadata": {
        "id": "sP80a0V9AgaK"
      },
      "source": [
        "#### docstring\n",
        "    - 함수를 선언할 때 함수에 대한 설명"
      ]
    },
    {
      "cell_type": "code",
      "execution_count": 4,
      "metadata": {
        "ExecuteTime": {
          "end_time": "2021-01-15T00:27:04.764772Z",
          "start_time": "2021-01-15T00:27:04.748815Z"
        },
        "id": "Xw2y-GeqAgaL"
      },
      "outputs": [],
      "source": [
        "def exam_doc(subj):\n",
        "  \"\"\"\n",
        "  이 함수에 대한 설명을 여기에 작성하면 됩니다\n",
        "  \"\"\"\n",
        "  print(\"docstring 예제\")"
      ]
    },
    {
      "cell_type": "code",
      "execution_count": 5,
      "metadata": {
        "colab": {
          "base_uri": "https://localhost:8080/"
        },
        "id": "zXlwkrrbAgaL",
        "outputId": "13ab3650-25f0-413c-d6f5-c604869f354d"
      },
      "outputs": [
        {
          "output_type": "stream",
          "name": "stdout",
          "text": [
            "docstring 예제\n"
          ]
        }
      ],
      "source": [
        "exam_doc(2)"
      ]
    },
    {
      "cell_type": "code",
      "execution_count": 6,
      "metadata": {
        "ExecuteTime": {
          "end_time": "2021-01-15T00:28:02.204391Z",
          "start_time": "2021-01-15T00:28:02.200408Z"
        },
        "colab": {
          "base_uri": "https://localhost:8080/"
        },
        "id": "YfWV3vLkAgaM",
        "outputId": "8b031f72-d058-418a-d1e7-a2efbf5c3b2c"
      },
      "outputs": [
        {
          "output_type": "stream",
          "name": "stdout",
          "text": [
            "Help on function exam_doc in module __main__:\n",
            "\n",
            "exam_doc(subj)\n",
            "    이 함수에 대한 설명을 여기에 작성하면 됩니다\n",
            "\n"
          ]
        }
      ],
      "source": [
        "help(exam_doc)"
      ]
    },
    {
      "cell_type": "code",
      "execution_count": null,
      "metadata": {
        "ExecuteTime": {
          "end_time": "2021-01-15T00:28:10.280929Z",
          "start_time": "2021-01-15T00:28:10.259950Z"
        },
        "colab": {
          "base_uri": "https://localhost:8080/",
          "height": 35
        },
        "id": "T0gH6zLTAgaM",
        "outputId": "42be0646-5d0c-41e6-a6f1-05972df54a01"
      },
      "outputs": [
        {
          "data": {
            "application/vnd.google.colaboratory.intrinsic+json": {
              "type": "string"
            },
            "text/plain": [
              "'\\n    이 함수에 대한 설명을 여기에 작성하면 됩니다\\n    '"
            ]
          },
          "execution_count": 20,
          "metadata": {},
          "output_type": "execute_result"
        }
      ],
      "source": [
        "exam_doc.__doc__"
      ]
    },
    {
      "cell_type": "markdown",
      "metadata": {
        "id": "BJ-Or5xZAgaN"
      },
      "source": [
        "#### 지역변수와 전역변수\n",
        "    - 함수 안에서 선언되는 변수와 밖에서 선언되는 변수의 범위\n",
        "    - global : 전역\n",
        "    - local : 지역"
      ]
    },
    {
      "cell_type": "code",
      "execution_count": 7,
      "metadata": {
        "ExecuteTime": {
          "end_time": "2021-01-15T00:36:40.675990Z",
          "start_time": "2021-01-15T00:36:40.670999Z"
        },
        "id": "iV6yfpNqAgaN",
        "colab": {
          "base_uri": "https://localhost:8080/"
        },
        "outputId": "0f34d0a6-da23-4f55-defd-28393e2ed6a3"
      },
      "outputs": [
        {
          "output_type": "stream",
          "name": "stdout",
          "text": [
            "수박\n"
          ]
        }
      ],
      "source": [
        "def exam():\n",
        "  print(global_v)\n",
        "  return None\n",
        "\n",
        "global_v = '수박'\n",
        "\n",
        "exam()"
      ]
    },
    {
      "cell_type": "code",
      "execution_count": 8,
      "metadata": {
        "id": "QyRpQycuCI2I",
        "colab": {
          "base_uri": "https://localhost:8080/"
        },
        "outputId": "f1314af1-7b8d-46ae-a12a-03614ca04130"
      },
      "outputs": [
        {
          "output_type": "stream",
          "name": "stdout",
          "text": [
            "바나나\n"
          ]
        }
      ],
      "source": [
        "def exam2():\n",
        "  global_v = '바나나'\n",
        "  # 내부에서 변수가 선언되면 함수 내부의 값을 사용\n",
        "  print(global_v)\n",
        "  return None\n",
        "\n",
        "exam2()"
      ]
    },
    {
      "cell_type": "code",
      "execution_count": 9,
      "metadata": {
        "id": "xxKk11nHCcDN",
        "colab": {
          "base_uri": "https://localhost:8080/"
        },
        "outputId": "a7e82027-a432-4715-bf91-7e9b274c2beb"
      },
      "outputs": [
        {
          "output_type": "stream",
          "name": "stdout",
          "text": [
            "수박\n",
            "바나나\n"
          ]
        }
      ],
      "source": [
        "def exam3():\n",
        "  global global_v\n",
        "  print(global_v)\n",
        "  global_v = '바나나'\n",
        "  print(global_v)\n",
        "\n",
        "global_v = '수박'\n",
        "\n",
        "exam3()"
      ]
    },
    {
      "cell_type": "code",
      "execution_count": null,
      "metadata": {
        "pycharm": {
          "name": "#%%\n"
        },
        "id": "MAMNhKKLBwU4"
      },
      "outputs": [],
      "source": []
    }
  ],
  "metadata": {
    "colab": {
      "collapsed_sections": [],
      "provenance": [],
      "include_colab_link": true
    },
    "hide_input": false,
    "kernelspec": {
      "display_name": "Python 3 (ipykernel)",
      "language": "python",
      "name": "python3"
    },
    "language_info": {
      "codemirror_mode": {
        "name": "ipython",
        "version": 3
      },
      "file_extension": ".py",
      "mimetype": "text/x-python",
      "name": "python",
      "nbconvert_exporter": "python",
      "pygments_lexer": "ipython3",
      "version": "3.8.5"
    },
    "toc": {
      "base_numbering": 1,
      "nav_menu": {},
      "number_sections": true,
      "sideBar": true,
      "skip_h1_title": false,
      "title_cell": "Table of Contents",
      "title_sidebar": "Contents",
      "toc_cell": false,
      "toc_position": {},
      "toc_section_display": true,
      "toc_window_display": false
    },
    "varInspector": {
      "cols": {
        "lenName": 16,
        "lenType": 16,
        "lenVar": 40
      },
      "kernels_config": {
        "python": {
          "delete_cmd_postfix": "",
          "delete_cmd_prefix": "del ",
          "library": "var_list.py",
          "varRefreshCmd": "print(var_dic_list())"
        },
        "r": {
          "delete_cmd_postfix": ") ",
          "delete_cmd_prefix": "rm(",
          "library": "var_list.r",
          "varRefreshCmd": "cat(var_dic_list()) "
        }
      },
      "types_to_exclude": [
        "module",
        "function",
        "builtin_function_or_method",
        "instance",
        "_Feature"
      ],
      "window_display": false
    }
  },
  "nbformat": 4,
  "nbformat_minor": 0
}